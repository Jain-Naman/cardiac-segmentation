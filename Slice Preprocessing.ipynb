{
 "cells": [
  {
   "cell_type": "code",
   "execution_count": 7,
   "id": "b14178cc",
   "metadata": {},
   "outputs": [],
   "source": [
    "import os\n",
    "import re\n",
    "import cv2\n",
    "import numpy as np\n",
    "import pandas as pd\n",
    "\n",
    "import matplotlib.pyplot as plt"
   ]
  },
  {
   "cell_type": "code",
   "execution_count": 40,
   "id": "f6575f5f",
   "metadata": {},
   "outputs": [],
   "source": [
    "def readSortedSlices(path):\n",
    "    \n",
    "    slices = []\n",
    "    for s in os.listdir(path):\n",
    "        slices.append(path + '/' + s)\n",
    "        \n",
    "    slices.sort(key = lambda s: int(s[s.find('_') + 1 : s.find('.')]))\n",
    "    \n",
    "    ID = slices[0][slices[0].find('/') + 1 : slices[0].find('_')]\n",
    "    print('CT scan of Patient %s consists of %d slices.' % (ID, len(slices)))\n",
    "    \n",
    "    return slices"
   ]
  },
  {
   "cell_type": "code",
   "execution_count": 38,
   "id": "7eb2b3f0",
   "metadata": {},
   "outputs": [],
   "source": [
    "def getSliceImages(path):\n",
    "    \n",
    "    for s in os.listdir(path):\n",
    "        \n",
    "        img_path = path + '/' + s\n",
    "        img = cv2.imread(img_path)\n",
    "        im_rgb = cv2.cvtColor(img, cv2.COLOR_BGR2RGB)\n",
    "        plt.imshow(im_rgb)\n",
    "        plt.title('Image')\n",
    "        plt.show()\n",
    "    "
   ]
  },
  {
   "cell_type": "code",
   "execution_count": 39,
   "id": "1510ac7e",
   "metadata": {},
   "outputs": [
    {
     "name": "stdout",
     "output_type": "stream",
     "text": [
      "CT scan of Patient ID00007637202177411956430 consists of 30 slices.\n"
     ]
    },
    {
     "data": {
      "text/plain": [
       "['sample-dataset/ID00007637202177411956430_0.jpg',\n",
       " 'sample-dataset/ID00007637202177411956430_1.jpg',\n",
       " 'sample-dataset/ID00007637202177411956430_2.jpg',\n",
       " 'sample-dataset/ID00007637202177411956430_3.jpg',\n",
       " 'sample-dataset/ID00007637202177411956430_4.jpg',\n",
       " 'sample-dataset/ID00007637202177411956430_5.jpg',\n",
       " 'sample-dataset/ID00007637202177411956430_6.jpg',\n",
       " 'sample-dataset/ID00007637202177411956430_7.jpg',\n",
       " 'sample-dataset/ID00007637202177411956430_8.jpg',\n",
       " 'sample-dataset/ID00007637202177411956430_9.jpg',\n",
       " 'sample-dataset/ID00007637202177411956430_10.jpg',\n",
       " 'sample-dataset/ID00007637202177411956430_11.jpg',\n",
       " 'sample-dataset/ID00007637202177411956430_12.jpg',\n",
       " 'sample-dataset/ID00007637202177411956430_13.jpg',\n",
       " 'sample-dataset/ID00007637202177411956430_14.jpg',\n",
       " 'sample-dataset/ID00007637202177411956430_15.jpg',\n",
       " 'sample-dataset/ID00007637202177411956430_16.jpg',\n",
       " 'sample-dataset/ID00007637202177411956430_17.jpg',\n",
       " 'sample-dataset/ID00007637202177411956430_18.jpg',\n",
       " 'sample-dataset/ID00007637202177411956430_19.jpg',\n",
       " 'sample-dataset/ID00007637202177411956430_20.jpg',\n",
       " 'sample-dataset/ID00007637202177411956430_21.jpg',\n",
       " 'sample-dataset/ID00007637202177411956430_22.jpg',\n",
       " 'sample-dataset/ID00007637202177411956430_23.jpg',\n",
       " 'sample-dataset/ID00007637202177411956430_24.jpg',\n",
       " 'sample-dataset/ID00007637202177411956430_25.jpg',\n",
       " 'sample-dataset/ID00007637202177411956430_26.jpg',\n",
       " 'sample-dataset/ID00007637202177411956430_27.jpg',\n",
       " 'sample-dataset/ID00007637202177411956430_28.jpg',\n",
       " 'sample-dataset/ID00007637202177411956430_29.jpg']"
      ]
     },
     "execution_count": 39,
     "metadata": {},
     "output_type": "execute_result"
    }
   ],
   "source": [
    "#show_Slices('sample-dataset')\n",
    "readSortedSlices('sample-dataset')"
   ]
  },
  {
   "cell_type": "code",
   "execution_count": null,
   "id": "9bcfb48f",
   "metadata": {},
   "outputs": [],
   "source": []
  }
 ],
 "metadata": {
  "kernelspec": {
   "display_name": "Python 3 (ipykernel)",
   "language": "python",
   "name": "python3"
  },
  "language_info": {
   "codemirror_mode": {
    "name": "ipython",
    "version": 3
   },
   "file_extension": ".py",
   "mimetype": "text/x-python",
   "name": "python",
   "nbconvert_exporter": "python",
   "pygments_lexer": "ipython3",
   "version": "3.7.12"
  }
 },
 "nbformat": 4,
 "nbformat_minor": 5
}
