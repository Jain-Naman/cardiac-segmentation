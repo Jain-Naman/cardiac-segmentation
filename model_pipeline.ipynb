{
 "cells": [
  {
   "cell_type": "code",
   "execution_count": 24,
   "id": "bfc47239",
   "metadata": {},
   "outputs": [],
   "source": [
    "%run -i SegmentationFunctions.py"
   ]
  },
  {
   "cell_type": "code",
   "execution_count": 25,
   "id": "9b572094",
   "metadata": {},
   "outputs": [],
   "source": [
    "def modelPipeline(img_path):\n",
    "    \n",
    "    ID = img_path[img_path.find('/') + 1 : img_path.find('_')]\n",
    "    sliceNo = img_path[img_path.find('_') + 1 : img_path.find('.')]\n",
    "    \n",
    "    print('\\t******* SEGMENTATION PIPELINE ********')\n",
    "    print('Patient:', ID + ', Slice Number:', sliceNo)\n",
    "    \n",
    "    im = readImg(img_path, showOutput=0)\n",
    "    \n",
    "    procImg = preprocessImage(im, showOutput=0)\n",
    "    print('...preprocessing')\n",
    "    \n",
    "    fg_mask, fg_threshold = cannyForegroundMask(procImg, showOutput=0)\n",
    "    print('...computing foreground mask')\n",
    "    \n",
    "    lung_mask, ch_lung_mask, int_heart_mask = chullLungMask(procImg, fg_mask, fg_threshold, showOutput=0)\n",
    "    print('...computing lung mask')\n",
    "    \n",
    "    spine_mask, heart_mask = chullSpineMask(im, int_heart_mask, showOutput=0)\n",
    "    print('...computing spine & heart masks')\n",
    "    \n",
    "    segmented_heart = segmentHeart(im, heart_mask, showOutput=0)\n",
    "    \n",
    "    segmented_lungs = segmentLungs(im, lung_mask, showOutput=0)\n",
    "    \n",
    "    heart_colored, lung_colored, colored_masks = getColoredMasks(im, heart_mask, lung_mask, showOutput=1)"
   ]
  },
  {
   "cell_type": "code",
   "execution_count": null,
   "id": "07987be8",
   "metadata": {},
   "outputs": [
    {
     "name": "stdout",
     "output_type": "stream",
     "text": [
      "CT scan of Patient ID00007637202177411956430 consists of 30 slices.\n",
      "\t******* SEGMENTATION PIPELINE ********\n",
      "Patient: ID00007637202177411956430, Slice Number: 0\n",
      "...preprocessing\n",
      "...computing foreground mask\n",
      "...computing lung mask\n",
      "...computing spine & heart masks\n"
     ]
    },
    {
     "name": "stderr",
     "output_type": "stream",
     "text": [
      "SegmentationFunctions.py:357: RuntimeWarning: invalid value encountered in true_divide\n",
      "  \n"
     ]
    },
    {
     "name": "stdout",
     "output_type": "stream",
     "text": [
      "\t******* SEGMENTATION PIPELINE ********\n",
      "Patient: ID00007637202177411956430, Slice Number: 1\n",
      "...preprocessing\n",
      "...computing foreground mask\n",
      "...computing lung mask\n",
      "...computing spine & heart masks\n",
      "\t******* SEGMENTATION PIPELINE ********\n",
      "Patient: ID00007637202177411956430, Slice Number: 2\n"
     ]
    },
    {
     "name": "stderr",
     "output_type": "stream",
     "text": [
      "SegmentationFunctions.py:357: RuntimeWarning: invalid value encountered in true_divide\n",
      "  \n"
     ]
    },
    {
     "name": "stdout",
     "output_type": "stream",
     "text": [
      "...preprocessing\n",
      "...computing foreground mask\n",
      "...computing lung mask\n",
      "...computing spine & heart masks\n",
      "\t******* SEGMENTATION PIPELINE ********\n",
      "Patient: ID00007637202177411956430, Slice Number: 3\n",
      "...preprocessing\n",
      "...computing foreground mask\n",
      "...computing lung mask\n",
      "...computing spine & heart masks\n",
      "\t******* SEGMENTATION PIPELINE ********\n",
      "Patient: ID00007637202177411956430, Slice Number: 4\n",
      "...preprocessing\n",
      "...computing foreground mask\n",
      "...computing lung mask\n",
      "...computing spine & heart masks\n",
      "\t******* SEGMENTATION PIPELINE ********\n",
      "Patient: ID00007637202177411956430, Slice Number: 5\n",
      "...preprocessing\n",
      "...computing foreground mask\n",
      "...computing lung mask\n",
      "...computing spine & heart masks\n",
      "\t******* SEGMENTATION PIPELINE ********\n",
      "Patient: ID00007637202177411956430, Slice Number: 6\n",
      "...preprocessing\n",
      "...computing foreground mask\n",
      "...computing lung mask\n",
      "...computing spine & heart masks\n",
      "\t******* SEGMENTATION PIPELINE ********\n",
      "Patient: ID00007637202177411956430, Slice Number: 7\n",
      "...preprocessing\n",
      "...computing foreground mask\n",
      "...computing lung mask\n",
      "...computing spine & heart masks\n",
      "\t******* SEGMENTATION PIPELINE ********\n",
      "Patient: ID00007637202177411956430, Slice Number: 8\n",
      "...preprocessing\n",
      "...computing foreground mask\n",
      "...computing lung mask\n",
      "...computing spine & heart masks\n",
      "\t******* SEGMENTATION PIPELINE ********\n",
      "Patient: ID00007637202177411956430, Slice Number: 9\n",
      "...preprocessing\n",
      "...computing foreground mask\n",
      "...computing lung mask\n",
      "...computing spine & heart masks\n",
      "\t******* SEGMENTATION PIPELINE ********\n",
      "Patient: ID00007637202177411956430, Slice Number: 10\n",
      "...preprocessing\n",
      "...computing foreground mask\n",
      "...computing lung mask\n",
      "...computing spine & heart masks\n",
      "\t******* SEGMENTATION PIPELINE ********\n",
      "Patient: ID00007637202177411956430, Slice Number: 11\n",
      "...preprocessing\n",
      "...computing foreground mask\n",
      "...computing lung mask\n",
      "...computing spine & heart masks\n",
      "\t******* SEGMENTATION PIPELINE ********\n",
      "Patient: ID00007637202177411956430, Slice Number: 12\n",
      "...preprocessing\n",
      "...computing foreground mask\n",
      "...computing lung mask\n",
      "...computing spine & heart masks\n",
      "\t******* SEGMENTATION PIPELINE ********\n",
      "Patient: ID00007637202177411956430, Slice Number: 13\n",
      "...preprocessing\n",
      "...computing foreground mask\n",
      "...computing lung mask\n",
      "...computing spine & heart masks\n",
      "\t******* SEGMENTATION PIPELINE ********\n",
      "Patient: ID00007637202177411956430, Slice Number: 14\n",
      "...preprocessing\n",
      "...computing foreground mask\n",
      "...computing lung mask\n",
      "...computing spine & heart masks\n",
      "\t******* SEGMENTATION PIPELINE ********\n",
      "Patient: ID00007637202177411956430, Slice Number: 15\n",
      "...preprocessing\n",
      "...computing foreground mask\n"
     ]
    }
   ],
   "source": [
    "slices, PatientID = readSortedSlices('sample-dataset')\n",
    "\n",
    "for slicePath in slices:    \n",
    "    modelPipeline(slicePath)"
   ]
  },
  {
   "cell_type": "code",
   "execution_count": null,
   "id": "2bbbdf75",
   "metadata": {},
   "outputs": [],
   "source": []
  }
 ],
 "metadata": {
  "kernelspec": {
   "display_name": "Python 3 (ipykernel)",
   "language": "python",
   "name": "python3"
  },
  "language_info": {
   "codemirror_mode": {
    "name": "ipython",
    "version": 3
   },
   "file_extension": ".py",
   "mimetype": "text/x-python",
   "name": "python",
   "nbconvert_exporter": "python",
   "pygments_lexer": "ipython3",
   "version": "3.7.12"
  }
 },
 "nbformat": 4,
 "nbformat_minor": 5
}
