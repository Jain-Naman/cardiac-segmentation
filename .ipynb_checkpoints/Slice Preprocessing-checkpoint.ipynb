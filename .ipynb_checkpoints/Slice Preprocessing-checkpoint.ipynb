{
 "cells": [
  {
   "cell_type": "code",
   "execution_count": 16,
   "id": "b14178cc",
   "metadata": {},
   "outputs": [
    {
     "name": "stdout",
     "output_type": "stream",
     "text": [
      "Usage: install [OPTION]... [-T] SOURCE DEST\r\n",
      "  or:  install [OPTION]... SOURCE... DIRECTORY\r\n",
      "  or:  install [OPTION]... -t DIRECTORY SOURCE...\r\n",
      "  or:  install [OPTION]... -d DIRECTORY...\r\n",
      "\r\n",
      "This install program copies files (often just compiled) into destination\r\n",
      "locations you choose.  If you want to download and install a ready-to-use\r\n",
      "package on a GNU/Linux system, you should instead be using a package manager\r\n",
      "like yum(1) or apt-get(1).\r\n",
      "\r\n",
      "In the first three forms, copy SOURCE to DEST or multiple SOURCE(s) to\r\n",
      "the existing DIRECTORY, while setting permission modes and owner/group.\r\n",
      "In the 4th form, create all components of the given DIRECTORY(ies).\r\n",
      "\r\n",
      "Mandatory arguments to long options are mandatory for short options too.\r\n",
      "      --backup[=CONTROL]  make a backup of each existing destination file\r\n",
      "  -b                  like --backup but does not accept an argument\r\n",
      "  -c                  (ignored)\r\n",
      "  -C, --compare       compare each pair of source and destination files, and\r\n",
      "                        in some cases, do not modify the destination at all\r\n",
      "  -d, --directory     treat all arguments as directory names; create all\r\n",
      "                        components of the specified directories\r\n",
      "  -D                  create all leading components of DEST except the last,\r\n",
      "                        or all components of --target-directory,\r\n",
      "                        then copy SOURCE to DEST\r\n",
      "  -g, --group=GROUP   set group ownership, instead of process' current group\r\n",
      "  -m, --mode=MODE     set permission mode (as in chmod), instead of rwxr-xr-x\r\n",
      "  -o, --owner=OWNER   set ownership (super-user only)\r\n",
      "  -p, --preserve-timestamps   apply access/modification times of SOURCE files\r\n",
      "                        to corresponding destination files\r\n",
      "  -s, --strip         strip symbol tables\r\n",
      "      --strip-program=PROGRAM  program used to strip binaries\r\n",
      "  -S, --suffix=SUFFIX  override the usual backup suffix\r\n",
      "  -t, --target-directory=DIRECTORY  copy all SOURCE arguments into DIRECTORY\r\n",
      "  -T, --no-target-directory  treat DEST as a normal file\r\n",
      "  -v, --verbose       print the name of each directory as it is created\r\n",
      "      --preserve-context  preserve SELinux security context\r\n",
      "  -Z                      set SELinux security context of destination\r\n",
      "                            file and each created directory to default type\r\n",
      "      --context[=CTX]     like -Z, or if CTX is specified then set the\r\n",
      "                            SELinux or SMACK security context to CTX\r\n",
      "      --help     display this help and exit\r\n",
      "      --version  output version information and exit\r\n",
      "\r\n",
      "The backup suffix is '~', unless set with --suffix or SIMPLE_BACKUP_SUFFIX.\r\n",
      "The version control method may be selected via the --backup option or through\r\n",
      "the VERSION_CONTROL environment variable.  Here are the values:\r\n",
      "\r\n",
      "  none, off       never make backups (even if --backup is given)\r\n",
      "  numbered, t     make numbered backups\r\n",
      "  existing, nil   numbered if numbered backups exist, simple otherwise\r\n",
      "  simple, never   always make simple backups\r\n",
      "\r\n",
      "GNU coreutils online help: <https://www.gnu.org/software/coreutils/>\r\n",
      "Full documentation at: <https://www.gnu.org/software/coreutils/install>\r\n",
      "or available locally via: info '(coreutils) install invocation'\r\n"
     ]
    }
   ],
   "source": [
    "import os\n",
    "import re\n",
    "import numpy as np\n",
    "import pandas as pd\n",
    "\n",
    "import matplotlib.pyplot as plt\n",
    "\n",
    "import cv2 as cv\n",
    "\n",
    "!install --help"
   ]
  },
  {
   "cell_type": "code",
   "execution_count": 7,
   "id": "f6575f5f",
   "metadata": {},
   "outputs": [],
   "source": [
    "def read_ID_Slices(path):\n",
    "    \n",
    "    slices = []\n",
    "    \n",
    "    ID = None\n",
    "    for s in os.listdir(path):\n",
    "        \n",
    "        ID = s[:s.find('_')]\n",
    "        print(s)"
   ]
  },
  {
   "cell_type": "code",
   "execution_count": 13,
   "id": "7eb2b3f0",
   "metadata": {},
   "outputs": [],
   "source": [
    "def show_Slices(path):\n",
    "    \n",
    "    for s in os.listdir(path):\n",
    "        IDSlice = cv.imread(path + '/' + s)\n",
    "        cv.imshow('Slice 1', IDSlice)"
   ]
  },
  {
   "cell_type": "code",
   "execution_count": 14,
   "id": "96c8b2f9",
   "metadata": {},
   "outputs": [
    {
     "ename": "error",
     "evalue": "OpenCV(3.4.2) /tmp/build/80754af9/opencv-suite_1535558553474/work/modules/highgui/src/window.cpp:632: error: (-2:Unspecified error) The function is not implemented. Rebuild the library with Windows, GTK+ 2.x or Carbon support. If you are on Ubuntu or Debian, install libgtk2.0-dev and pkg-config, then re-run cmake or configure script in function 'cvShowImage'\n",
     "output_type": "error",
     "traceback": [
      "\u001b[0;31m---------------------------------------------------------------------------\u001b[0m",
      "\u001b[0;31merror\u001b[0m                                     Traceback (most recent call last)",
      "\u001b[0;32m/tmp/ipykernel_16639/3697086092.py\u001b[0m in \u001b[0;36m<module>\u001b[0;34m\u001b[0m\n\u001b[0;32m----> 1\u001b[0;31m \u001b[0mshow_Slices\u001b[0m\u001b[0;34m(\u001b[0m\u001b[0;34m'sample-dataset'\u001b[0m\u001b[0;34m)\u001b[0m\u001b[0;34m\u001b[0m\u001b[0;34m\u001b[0m\u001b[0m\n\u001b[0m",
      "\u001b[0;32m/tmp/ipykernel_16639/22977571.py\u001b[0m in \u001b[0;36mshow_Slices\u001b[0;34m(path)\u001b[0m\n\u001b[1;32m      3\u001b[0m     \u001b[0;32mfor\u001b[0m \u001b[0ms\u001b[0m \u001b[0;32min\u001b[0m \u001b[0mos\u001b[0m\u001b[0;34m.\u001b[0m\u001b[0mlistdir\u001b[0m\u001b[0;34m(\u001b[0m\u001b[0mpath\u001b[0m\u001b[0;34m)\u001b[0m\u001b[0;34m:\u001b[0m\u001b[0;34m\u001b[0m\u001b[0;34m\u001b[0m\u001b[0m\n\u001b[1;32m      4\u001b[0m         \u001b[0mIDSlice\u001b[0m \u001b[0;34m=\u001b[0m \u001b[0mcv\u001b[0m\u001b[0;34m.\u001b[0m\u001b[0mimread\u001b[0m\u001b[0;34m(\u001b[0m\u001b[0mpath\u001b[0m \u001b[0;34m+\u001b[0m \u001b[0;34m'/'\u001b[0m \u001b[0;34m+\u001b[0m \u001b[0ms\u001b[0m\u001b[0;34m)\u001b[0m\u001b[0;34m\u001b[0m\u001b[0;34m\u001b[0m\u001b[0m\n\u001b[0;32m----> 5\u001b[0;31m         \u001b[0mcv\u001b[0m\u001b[0;34m.\u001b[0m\u001b[0mimshow\u001b[0m\u001b[0;34m(\u001b[0m\u001b[0;34m'Slice 1'\u001b[0m\u001b[0;34m,\u001b[0m \u001b[0mIDSlice\u001b[0m\u001b[0;34m)\u001b[0m\u001b[0;34m\u001b[0m\u001b[0;34m\u001b[0m\u001b[0m\n\u001b[0m",
      "\u001b[0;31merror\u001b[0m: OpenCV(3.4.2) /tmp/build/80754af9/opencv-suite_1535558553474/work/modules/highgui/src/window.cpp:632: error: (-2:Unspecified error) The function is not implemented. Rebuild the library with Windows, GTK+ 2.x or Carbon support. If you are on Ubuntu or Debian, install libgtk2.0-dev and pkg-config, then re-run cmake or configure script in function 'cvShowImage'\n"
     ]
    }
   ],
   "source": [
    "show_Slices('sample-dataset')"
   ]
  },
  {
   "cell_type": "code",
   "execution_count": null,
   "id": "1510ac7e",
   "metadata": {},
   "outputs": [],
   "source": []
  }
 ],
 "metadata": {
  "kernelspec": {
   "display_name": "Python 3 (ipykernel)",
   "language": "python",
   "name": "python3"
  },
  "language_info": {
   "codemirror_mode": {
    "name": "ipython",
    "version": 3
   },
   "file_extension": ".py",
   "mimetype": "text/x-python",
   "name": "python",
   "nbconvert_exporter": "python",
   "pygments_lexer": "ipython3",
   "version": "3.7.11"
  }
 },
 "nbformat": 4,
 "nbformat_minor": 5
}
